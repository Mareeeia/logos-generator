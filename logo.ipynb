{
 "cells": [
  {
   "cell_type": "code",
   "execution_count": 11,
   "metadata": {},
   "outputs": [
    {
     "name": "stderr",
     "output_type": "stream",
     "text": [
      "/Users/mmmilu/anaconda3/lib/python3.7/site-packages/PIL/TiffImagePlugin.py:763: UserWarning: Possibly corrupt EXIF data.  Expecting to read 1536 bytes but only got 1534. Skipping tag 320\n",
      "  \" Skipping tag %s\" % (size, len(data), tag))\n",
      "/Users/mmmilu/anaconda3/lib/python3.7/site-packages/PIL/TiffImagePlugin.py:780: UserWarning: Corrupt EXIF data.  Expecting to read 4 bytes but only got 0. \n",
      "  warnings.warn(str(msg))\n"
     ]
    }
   ],
   "source": [
    "\n",
    "from PIL import Image \n",
    "from PIL import ImageFile\n",
    "import os\n",
    "\n",
    "ImageFile.LOAD_TRUNCATED_IMAGES = True\n",
    "\n",
    "def black_and_white(input_image_path, output_image_path):\n",
    "   color_image = Image.open(input_image_path)\n",
    "   bw = color_image.convert('L')\n",
    "   bw.save(output_image_path)\n",
    " \n",
    "directory = os.fsencode('/Volumes/Macintosh HD/users/mmmilu/logo/logos')\n",
    "\n",
    "for file in os.listdir(directory):  \n",
    "    filename = os.fsdecode(file)\n",
    "    if filename.endswith(\".jpg\"):\n",
    "        black_and_white(\"/Volumes/Macintosh HD/users/mmmilu/logo/logos/\" + str(filename),\n",
    "            \"/Volumes/Macintosh HD/users/mmmilu/logo/logos_bw/\" + str(filename))\n",
    "    else:\n",
    "        continue"
   ]
  },
  {
   "cell_type": "code",
   "execution_count": 14,
   "metadata": {},
   "outputs": [],
   "source": [
    "import PIL\n",
    "\n",
    "def resize(inputImage, outputImage):\n",
    "    width = 480\n",
    "    height = 320\n",
    "    img = Image.open(inputImage)\n",
    "    img = img.resize((width, height), PIL.Image.ANTIALIAS)\n",
    "    img.save(outputImage)\n",
    "    \n",
    "directory = os.fsencode('/Volumes/Macintosh HD/users/mmmilu/logo/logos_bw')\n",
    "    \n",
    "for file in os.listdir(directory):  \n",
    "    filename = os.fsdecode(file)\n",
    "    if filename.endswith(\".jpg\"):\n",
    "        resize(\"/Volumes/Macintosh HD/users/mmmilu/logo/logos_bw/\" + str(filename),\n",
    "            \"/Volumes/Macintosh HD/users/mmmilu/logo/logos_resize/\" + str(filename))\n",
    "    else:\n",
    "        continue"
   ]
  },
  {
   "cell_type": "code",
   "execution_count": null,
   "metadata": {},
   "outputs": [],
   "source": [
    "import PIL\n",
    "\n",
    "def resize(inputImage, outputImage):\n",
    "    width = 480\n",
    "    height = 320\n",
    "    img = Image.open(inputImage)\n",
    "    img = img.resize((width, height), PIL.Image.ANTIALIAS)\n",
    "    img.save(outputImage)\n",
    "    \n",
    "directory = os.fsencode('/Volumes/Macintosh HD/users/mmmilu/logo/logos_bw')\n",
    "    \n",
    "for file in os.listdir(directory):  \n",
    "    filename = os.fsdecode(file)\n",
    "    if filename.endswith(\".jpg\"):\n",
    "        resize(\"/Volumes/Macintosh HD/users/mmmilu/logo/logos_bw/\" + str(filename),\n",
    "            \"/Volumes/Macintosh HD/users/mmmilu/logo/logos_resize_png/\" + str(filename))\n",
    "    else:\n",
    "        continue"
   ]
  },
  {
   "cell_type": "code",
   "execution_count": 2,
   "metadata": {},
   "outputs": [],
   "source": [
    "import PIL\n",
    "\n",
    "from PIL import Image \n",
    "from PIL import ImageFile\n",
    "import os\n",
    "\n",
    "ImageFile.LOAD_TRUNCATED_IMAGES = True\n",
    "\n",
    "def resize_png(inputImage, outputImage):\n",
    "    width = 120\n",
    "    height = 80\n",
    "    img = Image.open(inputImage)\n",
    "    img = img.resize((width, height), PIL.Image.ANTIALIAS)\n",
    "    img.save(outputImage)\n",
    "    \n",
    "directory = os.fsencode('/Volumes/Macintosh HD/users/mmmilu/logo/logos_bw')\n",
    "    \n",
    "for file in os.listdir(directory):  \n",
    "    filename = os.fsdecode(file)\n",
    "    if filename.endswith(\".jpg\"):\n",
    "        resize_png(\"/Volumes/Macintosh HD/users/mmmilu/logo/logos_bw/\" + str(filename),\n",
    "            \"/Volumes/Macintosh HD/users/mmmilu/logo/logos_resize_png/\" + str(filename).replace(\".jpg\", \".png\"))\n",
    "    else:\n",
    "        continue"
   ]
  },
  {
   "cell_type": "code",
   "execution_count": null,
   "metadata": {},
   "outputs": [],
   "source": []
  }
 ],
 "metadata": {
  "kernelspec": {
   "display_name": "Python 3",
   "language": "python",
   "name": "python3"
  },
  "language_info": {
   "codemirror_mode": {
    "name": "ipython",
    "version": 3
   },
   "file_extension": ".py",
   "mimetype": "text/x-python",
   "name": "python",
   "nbconvert_exporter": "python",
   "pygments_lexer": "ipython3",
   "version": "3.7.3"
  }
 },
 "nbformat": 4,
 "nbformat_minor": 2
}
